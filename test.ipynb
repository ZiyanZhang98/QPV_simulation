{
 "cells": [
  {
   "cell_type": "code",
   "execution_count": 1,
   "metadata": {},
   "outputs": [],
   "source": [
    "import netsquid as ns\n",
    "import numpy as np\n",
    "from netsquid.protocols import NodeProtocol\n",
    "from netsquid.nodes import Node, Network\n",
    "import matplotlib.pyplot as plt\n",
    "from component import QuantumConnection, ClassicalConnection\n",
    "from bool_function import bool_func\n",
    "from verifier import V0Protocol, V1Protocol\n",
    "from prover import PProtocol"
   ]
  },
  {
   "cell_type": "code",
   "execution_count": 2,
   "metadata": {},
   "outputs": [
    {
     "data": {
      "text/plain": [
       "('quantum', 'quantum')"
      ]
     },
     "execution_count": 2,
     "metadata": {},
     "output_type": "execute_result"
    }
   ],
   "source": [
    "node_v0 = Node('v0', port_names = ['quantum', 'v0p', 'v0v1'])\n",
    "node_p = Node('p', port_names=['quantum', 'pv0', 'pv1'])\n",
    "node_v1 = Node('v1', port_names=['v1p', 'v1v0'])\n",
    "network = Network('QPV_BB84')\n",
    "network.add_nodes([node_p, node_v0, node_v1])\n",
    "network.add_connection(node_v1, node_v0, connection=ClassicalConnection(length=3, name='v0v1', direction='Bi'), port_name_node1='v1v0', port_name_node2='v0v1')\n",
    "network.add_connection(node_v1, node_p, connection=ClassicalConnection(length=3, name='v1p', direction='Bi'), port_name_node1='v1p', port_name_node2='pv1')\n",
    "network.add_connection(node_v0, node_p, connection=ClassicalConnection(length=3, name='v0p', direction='Bi'), port_name_node1='v0p', port_name_node2='pv0')\n",
    "network.add_connection(node_v0, node_p, connection=QuantumConnection(name=\"Channel_A2B\", length=3, direction='A2B'), port_name_node1='quantum', port_name_node2='quantum')"
   ]
  },
  {
   "cell_type": "code",
   "execution_count": 3,
   "metadata": {},
   "outputs": [],
   "source": [
    "# handler_v0 = lambda m: print(f\"V0 received {m} at {ns.sim_time()}!\")\n",
    "# handler_v1 = lambda m: print(f\"V1 received {m} at {ns.sim_time()}!\")\n",
    "# handler_vp = lambda m: print(f'p received {m} at {ns.sim_time()}!')\n",
    "# node_v0.ports['v0v1'].bind_input_handler(handler_v0)\n",
    "# node_v1.ports['v1v0'].bind_input_handler(handler_v1)\n",
    "# node_p.ports['quantum'].bind_input_handler(handler_vp)\n",
    "# q1 = ns.qubits.create_qubits(1)[0]\n",
    "# q2 = ns.qubits.create_qubits(1)[0]\n",
    "# ns.qubits.operate(q1, ns.H)\n",
    "# ns.qubits.operate([q1,q2], ns.CNOT)\n",
    "# node_v0.ports['quantum'].tx_output(q1)\n",
    "\n",
    "# node_v0.ports['v0v1'].tx_output(\"Hi v1!\")\n",
    "# node_v1.ports['v1v0'].tx_output(\"Hi v0!\")\n",
    "\n",
    "# x = ns.sim_run()\n",
    "# ns.sim_reset()"
   ]
  },
  {
   "cell_type": "code",
   "execution_count": 5,
   "metadata": {},
   "outputs": [
    {
     "ename": "AttributeError",
     "evalue": "'NoneType' object has no attribute 'items'",
     "output_type": "error",
     "traceback": [
      "\u001b[0;31m---------------------------------------------------------------------------\u001b[0m",
      "\u001b[0;31mAttributeError\u001b[0m                            Traceback (most recent call last)",
      "Cell \u001b[0;32mIn[5], line 11\u001b[0m\n\u001b[1;32m      8\u001b[0m v0_protocol\u001b[38;5;241m.\u001b[39mstart()\n\u001b[1;32m      9\u001b[0m v1_protocol\u001b[38;5;241m.\u001b[39mstart()\n\u001b[0;32m---> 11\u001b[0m stats \u001b[38;5;241m=\u001b[39m \u001b[43mns\u001b[49m\u001b[38;5;241;43m.\u001b[39;49m\u001b[43msim_run\u001b[49m\u001b[43m(\u001b[49m\u001b[43m)\u001b[49m\n\u001b[1;32m     13\u001b[0m a \u001b[38;5;241m=\u001b[39m v0_protocol\u001b[38;5;241m.\u001b[39mget_answer()\n\u001b[1;32m     14\u001b[0m b \u001b[38;5;241m=\u001b[39m v1_protocol\u001b[38;5;241m.\u001b[39mget_answer()\n",
      "File \u001b[0;32m~/miniconda3/envs/myX86/lib/python3.8/site-packages/netsquid/util/simtools.py:275\u001b[0m, in \u001b[0;36msim_run\u001b[0;34m(end_time, duration, magnitude)\u001b[0m\n\u001b[1;32m    273\u001b[0m         _simengine\u001b[38;5;241m.\u001b[39mrun((_simengine\u001b[38;5;241m.\u001b[39mcurrent_time \u001b[38;5;241m+\u001b[39m duration \u001b[38;5;241m*\u001b[39m magnitude))\n\u001b[1;32m    274\u001b[0m     \u001b[38;5;28;01melse\u001b[39;00m:\n\u001b[0;32m--> 275\u001b[0m         \u001b[43m_simengine\u001b[49m\u001b[38;5;241;43m.\u001b[39;49m\u001b[43mrun\u001b[49m\u001b[43m(\u001b[49m\u001b[43m)\u001b[49m\n\u001b[1;32m    276\u001b[0m \u001b[38;5;28;01mif\u001b[39;00m logger\u001b[38;5;241m.\u001b[39misEnabledFor(logging\u001b[38;5;241m.\u001b[39mINFO):\n\u001b[1;32m    277\u001b[0m     end_wc_time \u001b[38;5;241m=\u001b[39m time()\n",
      "File \u001b[0;32mpydynaa/core.pyx:1466\u001b[0m, in \u001b[0;36mpydynaa.core.SimulationEngine.run\u001b[0;34m()\u001b[0m\n",
      "File \u001b[0;32mpydynaa/core.pyx:172\u001b[0m, in \u001b[0;36mpydynaa.core._call_obj_expr\u001b[0;34m()\u001b[0m\n",
      "File \u001b[0;32mpydynaa/core.pyx:169\u001b[0m, in \u001b[0;36mpydynaa.core._call_obj_expr\u001b[0;34m()\u001b[0m\n",
      "File \u001b[0;32mnetsquid/protocols/protocol.pyx:290\u001b[0m, in \u001b[0;36mnetsquid.protocols.protocol.Protocol._expression_callback\u001b[0;34m()\u001b[0m\n",
      "File \u001b[0;32mnetsquid/protocols/protocol.pyx:301\u001b[0m, in \u001b[0;36mnetsquid.protocols.protocol.Protocol._generator_step\u001b[0;34m()\u001b[0m\n",
      "File \u001b[0;32m~/Documents/QPV_simulation/prover.py:17\u001b[0m, in \u001b[0;36mPProtocol.run\u001b[0;34m(self)\u001b[0m\n\u001b[1;32m     15\u001b[0m \u001b[38;5;28;01mwhile\u001b[39;00m \u001b[38;5;28;01mTrue\u001b[39;00m:\n\u001b[1;32m     16\u001b[0m     \u001b[38;5;28;01myield\u001b[39;00m \u001b[38;5;28mself\u001b[39m\u001b[38;5;241m.\u001b[39mawait_port_input(\u001b[38;5;28mself\u001b[39m\u001b[38;5;241m.\u001b[39mport_q) \n\u001b[0;32m---> 17\u001b[0m     qubit \u001b[38;5;241m=\u001b[39m \u001b[38;5;28;43mself\u001b[39;49m\u001b[38;5;241;43m.\u001b[39;49m\u001b[43mport_q\u001b[49m\u001b[38;5;241;43m.\u001b[39;49m\u001b[43mrx_input\u001b[49m\u001b[43m(\u001b[49m\u001b[43m)\u001b[49m\u001b[38;5;241;43m.\u001b[39;49m\u001b[43mitems\u001b[49m[\u001b[38;5;241m0\u001b[39m]\n\u001b[1;32m     19\u001b[0m     \u001b[38;5;28;01myield\u001b[39;00m (\u001b[38;5;28mself\u001b[39m\u001b[38;5;241m.\u001b[39mawait_port_input(\u001b[38;5;28mself\u001b[39m\u001b[38;5;241m.\u001b[39mport_c) \u001b[38;5;129;01mor\u001b[39;00m \u001b[38;5;28mself\u001b[39m\u001b[38;5;241m.\u001b[39mawait_port_input(\u001b[38;5;28mself\u001b[39m\u001b[38;5;241m.\u001b[39mport_c2))\n\u001b[1;32m     20\u001b[0m     \u001b[38;5;28mself\u001b[39m\u001b[38;5;241m.\u001b[39mx \u001b[38;5;241m=\u001b[39m \u001b[38;5;28mself\u001b[39m\u001b[38;5;241m.\u001b[39mport_c\u001b[38;5;241m.\u001b[39mrx_input()\u001b[38;5;241m.\u001b[39mitems[\u001b[38;5;241m0\u001b[39m]\n",
      "\u001b[0;31mAttributeError\u001b[0m: 'NoneType' object has no attribute 'items'"
     ]
    }
   ],
   "source": [
    "x = 1\n",
    "y =0\n",
    "v0_protocol = V0Protocol(node=node_v0, x=x, y=y, len=3)\n",
    "p_protocol = PProtocol(node=node_p)\n",
    "v1_protocol = V1Protocol(node=node_v1, y=y, len=3)\n",
    "            # Start protocol\n",
    "p_protocol.start()\n",
    "v0_protocol.start()\n",
    "v1_protocol.start()\n",
    "\n",
    "stats = ns.sim_run()\n",
    "\n",
    "a = v0_protocol.get_answer()\n",
    "b = v1_protocol.get_answer()\n",
    "m = v0_protocol.get_result()"
   ]
  },
  {
   "cell_type": "code",
   "execution_count": null,
   "metadata": {},
   "outputs": [],
   "source": [
    "from mpi4py import MPI"
   ]
  },
  {
   "cell_type": "code",
   "execution_count": null,
   "metadata": {},
   "outputs": [],
   "source": [
    "comm = MPI.COMM_WORLD\n",
    "size = comm.Get_size()\n",
    "rank = comm.Get_rank()\n",
    "print(f'size: {size}, rank: {rank}')"
   ]
  },
  {
   "cell_type": "code",
   "execution_count": null,
   "metadata": {},
   "outputs": [],
   "source": []
  }
 ],
 "metadata": {
  "kernelspec": {
   "display_name": "Python 3",
   "language": "python",
   "name": "python3"
  },
  "language_info": {
   "codemirror_mode": {
    "name": "ipython",
    "version": 3
   },
   "file_extension": ".py",
   "mimetype": "text/x-python",
   "name": "python",
   "nbconvert_exporter": "python",
   "pygments_lexer": "ipython3",
   "version": "3.10.12"
  }
 },
 "nbformat": 4,
 "nbformat_minor": 2
}
