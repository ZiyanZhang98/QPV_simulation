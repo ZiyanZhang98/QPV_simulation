{
 "cells": [
  {
   "cell_type": "code",
   "execution_count": 10,
   "metadata": {},
   "outputs": [],
   "source": [
    "import netsquid as ns\n",
    "import numpy as np\n",
    "from netsquid.protocols import NodeProtocol\n",
    "from netsquid.nodes import Node, Network\n",
    "import matplotlib.pyplot as plt\n",
    "from component import QuantumConnection, ClassicalConnection\n",
    "from bool_function import bool_func\n",
    "from verifier import V0Protocol, V1Protocol\n",
    "from prover import PProtocol"
   ]
  },
  {
   "cell_type": "code",
   "execution_count": 11,
   "metadata": {},
   "outputs": [
    {
     "data": {
      "text/plain": [
       "('quantum', 'quantum')"
      ]
     },
     "execution_count": 11,
     "metadata": {},
     "output_type": "execute_result"
    }
   ],
   "source": [
    "node_v0 = Node('v0', port_names = ['quantum', 'v0p', 'v0v1'])\n",
    "node_p = Node('p', port_names=['quantum', 'pv0', 'pv1'])\n",
    "node_v1 = Node('v1', port_names=['v1p', 'v1v0'])\n",
    "network = Network('QPV_BB84')\n",
    "network.add_nodes([node_p, node_v0, node_v1])\n",
    "network.add_connection(node_v1, node_v0, connection=ClassicalConnection(length=3, name='v0v1', direction='Bi'), port_name_node1='v1v0', port_name_node2='v0v1')\n",
    "network.add_connection(node_v1, node_p, connection=ClassicalConnection(length=3, name='v1p', direction='Bi'), port_name_node1='v1p', port_name_node2='pv1')\n",
    "network.add_connection(node_v0, node_p, connection=ClassicalConnection(length=3, name='v0p', direction='Bi'), port_name_node1='v0p', port_name_node2='pv0')\n",
    "network.add_connection(node_v0, node_p, connection=QuantumConnection(name=\"Channel_A2B\", length=3, direction='A2B'), port_name_node1='quantum', port_name_node2='quantum')"
   ]
  },
  {
   "cell_type": "code",
   "execution_count": 12,
   "metadata": {},
   "outputs": [
    {
     "name": "stdout",
     "output_type": "stream",
     "text": [
      "V0 received Message(items=['Hi v0!'], header=None, ch_delta_time=1e-05) at 1e-05!\n",
      "V1 received Message(items=['Hi v1!'], header=None, ch_delta_time=1e-05) at 1e-05!\n",
      "p received Message(items=[Qubit('QS#2-0')], header=None, ch_delta_time=1.5e-05) at 1.5e-05!\n"
     ]
    }
   ],
   "source": [
    "handler_v0 = lambda m: print(f\"V0 received {m} at {ns.sim_time()}!\")\n",
    "handler_v1 = lambda m: print(f\"V1 received {m} at {ns.sim_time()}!\")\n",
    "handler_vp = lambda m: print(f'p received {m} at {ns.sim_time()}!')\n",
    "node_v0.ports['v0v1'].bind_input_handler(handler_v0)\n",
    "node_v1.ports['v1v0'].bind_input_handler(handler_v1)\n",
    "node_p.ports['quantum'].bind_input_handler(handler_vp)\n",
    "q1 = ns.qubits.create_qubits(1)[0]\n",
    "q2 = ns.qubits.create_qubits(1)[0]\n",
    "ns.qubits.operate(q1, ns.H)\n",
    "ns.qubits.operate([q1,q2], ns.CNOT)\n",
    "node_v0.ports['quantum'].tx_output(q1)\n",
    "\n",
    "node_v0.ports['v0v1'].tx_output(\"Hi v1!\")\n",
    "node_v1.ports['v1v0'].tx_output(\"Hi v0!\")\n",
    "\n",
    "x = ns.sim_run()\n",
    "ns.sim_reset()"
   ]
  },
  {
   "cell_type": "code",
   "execution_count": 4,
   "metadata": {},
   "outputs": [],
   "source": [
    "from mpi4py import MPI"
   ]
  },
  {
   "cell_type": "code",
   "execution_count": 9,
   "metadata": {},
   "outputs": [
    {
     "name": "stdout",
     "output_type": "stream",
     "text": [
      "size: 1, rank: 0\n"
     ]
    }
   ],
   "source": [
    "comm = MPI.COMM_WORLD\n",
    "size = comm.Get_size()\n",
    "rank = comm.Get_rank()\n",
    "print(f'size: {size}, rank: {rank}')"
   ]
  },
  {
   "cell_type": "code",
   "execution_count": null,
   "metadata": {},
   "outputs": [],
   "source": []
  }
 ],
 "metadata": {
  "kernelspec": {
   "display_name": "Python 3",
   "language": "python",
   "name": "python3"
  },
  "language_info": {
   "codemirror_mode": {
    "name": "ipython",
    "version": 3
   },
   "file_extension": ".py",
   "mimetype": "text/x-python",
   "name": "python",
   "nbconvert_exporter": "python",
   "pygments_lexer": "ipython3",
   "version": "3.10.12"
  }
 },
 "nbformat": 4,
 "nbformat_minor": 2
}
