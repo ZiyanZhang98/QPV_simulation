{
 "cells": [
  {
   "cell_type": "code",
   "execution_count": null,
   "metadata": {},
   "outputs": [],
   "source": [
    "from run_honest_prover import honest_distance_error\n",
    "import matplotlib.pyplot as plt\n",
    "from run_attack import random_guess"
   ]
  },
  {
   "cell_type": "markdown",
   "metadata": {},
   "source": [
    "# Honest prover"
   ]
  },
  {
   "cell_type": "markdown",
   "metadata": {},
   "source": [
    "## 1. Honest prover against SPAM error, measurement error and photon loss"
   ]
  },
  {
   "cell_type": "code",
   "execution_count": null,
   "metadata": {},
   "outputs": [],
   "source": [
    "p_err_no_error, distance, time = honest_distance_error(round=100, distance=50, x=1, y=0, z=3, measurement_error=0, loss_rate=0)\n",
    "p_err_loss_only, distance, time = honest_distance_error(round=100, distance=50, x=1, y=0, z=3, measurement_error=0, loss_rate=0.2)\n",
    "p_err_q_only, distance, time = honest_distance_error(round=100, distance=50, x=1, y=0, z=3, measurement_error=0.2, loss_rate=0)\n",
    "p_err, distance, time = honest_distance_error(round=100, distance=50, x=1, y=0, z=3, measurement_error=0.2, loss_rate=0.2)\n",
    "\n",
    "plt.figure(dpi=300)\n",
    "plt.plot(distance, p_err, label='With all constraints', color='#C25759')\n",
    "plt.plot(distance, p_err_loss_only, label='Photon loss only', color='#599CB4')\n",
    "plt.plot(distance, p_err_no_error, label='Without any constraints', color='green')\n",
    "plt.legend(loc='best')\n",
    "plt.xlabel('Distance')\n",
    "plt.ylabel('Error rate')\n",
    "plt.ylim(-0.1, 1)"
   ]
  },
  {
   "cell_type": "markdown",
   "metadata": {},
   "source": [
    "# Run malicious prover"
   ]
  },
  {
   "cell_type": "markdown",
   "metadata": {},
   "source": [
    "## Random guess"
   ]
  },
  {
   "cell_type": "code",
   "execution_count": null,
   "metadata": {},
   "outputs": [],
   "source": [
    "p_err, distance, time = random_guess(round=100, distance=50, x=1, y=0, z=3, measurement_error=0.2, loss_rate=0)\n",
    "p_err_h, distance_h, time_h = honest_distance_error(round=100, distance=50, x=1, y=0, z=3, measurement_error=0.2, loss_rate=0)\n",
    "\n",
    "fig, ax = plt.subplots(nrows=1, ncols=1, dpi=300)\n",
    "ax.set_ylim(0, 1)\n",
    "ax.plot(distance, p_err, label='Random Guess')\n",
    "ax.plot(distance, p_err_h, label='Honest prover')\n",
    "fig.patches.extend([plt.Rectangle((0.4,0.6),0.48,0.27,\n",
    "                                  fill=True, color='g', alpha=0.2,\n",
    "                                  transform=fig.transFigure, figure=fig)])\n",
    "plt.legend(loc='best')\n",
    "plt.show()"
   ]
  },
  {
   "cell_type": "markdown",
   "metadata": {},
   "source": [
    "## Run the MonE Game"
   ]
  },
  {
   "cell_type": "code",
   "execution_count": null,
   "metadata": {},
   "outputs": [],
   "source": []
  }
 ],
 "metadata": {
  "kernelspec": {
   "display_name": "Python 3",
   "language": "python",
   "name": "python3"
  },
  "language_info": {
   "codemirror_mode": {
    "name": "ipython",
    "version": 3
   },
   "file_extension": ".py",
   "mimetype": "text/x-python",
   "name": "python",
   "nbconvert_exporter": "python",
   "pygments_lexer": "ipython3",
   "version": "3.10.12"
  }
 },
 "nbformat": 4,
 "nbformat_minor": 2
}
